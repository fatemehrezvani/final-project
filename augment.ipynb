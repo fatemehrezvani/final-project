{
 "cells": [
  {
   "cell_type": "code",
   "execution_count": 1,
   "metadata": {},
   "outputs": [
    {
     "name": "stdout",
     "output_type": "stream",
     "text": [
      "generated augmented sentences with eda for sst2_train.txt to sst2_augmented.txt with num_aug=9\n"
     ]
    }
   ],
   "source": [
    "# Easy data augmentation techniques for text classification\n",
    "# Jason Wei and Kai Zou\n",
    "\n",
    "from eda import *\n",
    "\n",
    "#arguments to be parsed from command line\n",
    "# import argparse\n",
    "# ap = argparse.ArgumentParser()\n",
    "# ap.add_argument(\"--input\", required=True, type=str, help=\"input file of unaugmented data\")\n",
    "# ap.add_argument(\"--output\", required=False, type=str, help=\"output file of unaugmented data\")\n",
    "# ap.add_argument(\"--num_aug\", required=False, type=int, help=\"number of augmented sentences per original sentence\")\n",
    "# ap.add_argument(\"--alpha\", required=False, type=float, help=\"percent of words in each sentence to be changed\")\n",
    "# args = ap.parse_args()\n",
    "\n",
    "#the output file\n",
    "# output = None\n",
    "# if args.output:\n",
    "#     output = args.output\n",
    "# else:\n",
    "#     from os.path import dirname, basename, join\n",
    "#     output = join(dirname(args.input), 'eda_' + basename(args.input))\n",
    "\n",
    "#number of augmented sentences to generate per original sentence\n",
    "num_aug = 9 #default\n",
    "# if args.num_aug:\n",
    "#     num_aug = args.num_aug\n",
    "\n",
    "#how much to change each sentence\n",
    "alpha = 0.1#default\n",
    "# if args.alpha:\n",
    "#     alpha = args.alpha\n",
    "\n",
    "#generate more data with standard augmentation\n",
    "def gen_eda(train_orig, output_file, alpha, num_aug=9):\n",
    "\n",
    "    writer = open(output_file, 'w')\n",
    "    lines = open(train_orig, 'r').readlines()\n",
    "\n",
    "    for i, line in enumerate(lines):\n",
    "        parts = line[:-1].split('\\t')\n",
    "        label = parts[0]\n",
    "        sentence = parts[1]\n",
    "        aug_sentences = eda(sentence, alpha_sr=alpha, alpha_ri=alpha, alpha_rs=alpha, p_rd=alpha, num_aug=num_aug)\n",
    "        for aug_sentence in aug_sentences:\n",
    "            writer.write(label + \"\\t\" + aug_sentence + '\\n')\n",
    "\n",
    "    writer.close()\n",
    "    print(\"generated augmented sentences with eda for \" + train_orig + \" to \" + output_file + \" with num_aug=\" + str(num_aug))\n",
    "\n",
    "#main function\n",
    "if __name__ == \"__main__\":\n",
    "\n",
    "    #generate augmented sentences and output into a new file\n",
    "    gen_eda('sst2_train.txt', 'sst2_augmented.txt', alpha=alpha, num_aug=num_aug)"
   ]
  },
  {
   "cell_type": "code",
   "execution_count": null,
   "metadata": {},
   "outputs": [],
   "source": []
  }
 ],
 "metadata": {
  "kernelspec": {
   "display_name": "Python 3",
   "language": "python",
   "name": "python3"
  },
  "language_info": {
   "codemirror_mode": {
    "name": "ipython",
    "version": 3
   },
   "file_extension": ".py",
   "mimetype": "text/x-python",
   "name": "python",
   "nbconvert_exporter": "python",
   "pygments_lexer": "ipython3",
   "version": "3.6.5"
  }
 },
 "nbformat": 4,
 "nbformat_minor": 2
}
