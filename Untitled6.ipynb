{
  "nbformat": 4,
  "nbformat_minor": 0,
  "metadata": {
    "colab": {
      "name": "Untitled6.ipynb",
      "version": "0.3.2",
      "provenance": [],
      "collapsed_sections": []
    },
    "kernelspec": {
      "name": "python3",
      "display_name": "Python 3"
    }
  },
  "cells": [
    {
      "cell_type": "code",
      "metadata": {
        "id": "Uo9-vOwMw3KI",
        "colab_type": "code",
        "colab": {}
      },
      "source": [
        "# import csv\n",
        "# with open('Text Clustering.csv', newline='') as csvfile:\n",
        "#      spamreader = csv.reader(csvfile, delimiter=' ', quotechar='|')\n",
        "#      for row in spamreader:\n",
        "#         print(', '.join(row))"
      ],
      "execution_count": 0,
      "outputs": []
    },
    {
      "cell_type": "code",
      "metadata": {
        "id": "xEXWZ-QU0yCH",
        "colab_type": "code",
        "colab": {}
      },
      "source": [
        "# import csv\n",
        "\n",
        "# with open('Text Clustering.csv') as csv_file:\n",
        "#     csv_reader = csv.reader(csv_file, delimiter=',')\n",
        "#     line_count = 0\n",
        "#     for col in csv_reader:\n",
        "#         if line_count == 0:\n",
        "#             print(f'Column names are {\", \".join(col)}')\n",
        "#             line_count += 1\n",
        "#        # else:\n",
        "#             #print(f'\\t{row[0]} works in the {row[1]} department, and was born in {row[2]}.')\n",
        "#             #line_count += 1\n",
        "#     print(f'Processed {line_count} lines.')"
      ],
      "execution_count": 0,
      "outputs": []
    },
    {
      "cell_type": "code",
      "metadata": {
        "id": "m0BFowtU3aCK",
        "colab_type": "code",
        "outputId": "af073e7c-d1e1-42be-d7d2-33cfec289630",
        "colab": {
          "base_uri": "https://localhost:8080/",
          "height": 254
        }
      },
      "source": [
        "import pandas as pd\n",
        "df = pd.read_excel('TextClustering (3).xlsx', encoding = 'utf8')\n",
        "# Texts = df.text\n",
        "#IDS = df.id\n",
        "# print(Texts)\n",
        "\n",
        "# df.head(3)\n",
        "# # df.index\n",
        "# indexes = [0,16,19,10,45]\n",
        "# df.iloc[indexes]\n",
        "text_list = df\n",
        "text_list_new=df.sample(frac=0.7)\n",
        "newdf = text_list_new.iloc[:10]\n",
        "newdf.head(7)"
      ],
      "execution_count": 0,
      "outputs": [
        {
          "output_type": "execute_result",
          "data": {
            "text/html": [
              "<div>\n",
              "<style scoped>\n",
              "    .dataframe tbody tr th:only-of-type {\n",
              "        vertical-align: middle;\n",
              "    }\n",
              "\n",
              "    .dataframe tbody tr th {\n",
              "        vertical-align: top;\n",
              "    }\n",
              "\n",
              "    .dataframe thead th {\n",
              "        text-align: right;\n",
              "    }\n",
              "</style>\n",
              "<table border=\"1\" class=\"dataframe\">\n",
              "  <thead>\n",
              "    <tr style=\"text-align: right;\">\n",
              "      <th></th>\n",
              "      <th>text</th>\n",
              "    </tr>\n",
              "  </thead>\n",
              "  <tbody>\n",
              "    <tr>\n",
              "      <th>184</th>\n",
              "      <td>Newcastle line up Babayaro\\n\\nNewcastle manage...</td>\n",
              "    </tr>\n",
              "    <tr>\n",
              "      <th>191</th>\n",
              "      <td>Wenger refuses to give up title\\n\\nArsene Weng...</td>\n",
              "    </tr>\n",
              "    <tr>\n",
              "      <th>199</th>\n",
              "      <td>Beckham hints at Man Utd return\\n\\nEngland cap...</td>\n",
              "    </tr>\n",
              "    <tr>\n",
              "      <th>10</th>\n",
              "      <td>Radcliffe yet to answer GB call\\n\\nPaula Radcl...</td>\n",
              "    </tr>\n",
              "    <tr>\n",
              "      <th>0</th>\n",
              "      <td>Claxton hunting first major medal\\n\\nBritish h...</td>\n",
              "    </tr>\n",
              "    <tr>\n",
              "      <th>47</th>\n",
              "      <td>Classy Henman makes winning start\\n\\nTim Henma...</td>\n",
              "    </tr>\n",
              "    <tr>\n",
              "      <th>13</th>\n",
              "      <td>McIlroy aiming for Madrid title\\n\\nNorthern Ir...</td>\n",
              "    </tr>\n",
              "  </tbody>\n",
              "</table>\n",
              "</div>"
            ],
            "text/plain": [
              "                                                  text\n",
              "184  Newcastle line up Babayaro\\n\\nNewcastle manage...\n",
              "191  Wenger refuses to give up title\\n\\nArsene Weng...\n",
              "199  Beckham hints at Man Utd return\\n\\nEngland cap...\n",
              "10   Radcliffe yet to answer GB call\\n\\nPaula Radcl...\n",
              "0    Claxton hunting first major medal\\n\\nBritish h...\n",
              "47   Classy Henman makes winning start\\n\\nTim Henma...\n",
              "13   McIlroy aiming for Madrid title\\n\\nNorthern Ir..."
            ]
          },
          "metadata": {
            "tags": []
          },
          "execution_count": 3
        }
      ]
    },
    {
      "cell_type": "code",
      "metadata": {
        "id": "vgPYsm494qc9",
        "colab_type": "code",
        "colab": {}
      },
      "source": [
        "# mylist=[]\n",
        "# for i in range(1,13872):\n",
        "#   if i%2 == 0:\n",
        "#     mylist.append(0)\n",
        "#   elif i%2 == 1:\n",
        "#     mylist.append(1)\n",
        "# print(mylist) "
      ],
      "execution_count": 0,
      "outputs": []
    },
    {
      "cell_type": "code",
      "metadata": {
        "id": "V9Nh5eP_SkmP",
        "colab_type": "code",
        "outputId": "288b10e9-a012-4453-e7ba-91c71d541915",
        "colab": {
          "base_uri": "https://localhost:8080/",
          "height": 225
        }
      },
      "source": [
        "# text_list = df[['text']]\n",
        "\n",
        "#sampling randomly from text clustering file\n",
        "text_list = df\n",
        "newdf =df.sample(frac=0.7)\n",
        "\n",
        "\n",
        "newdf['sentiment'] = 0\n",
        "\n",
        "newdf.head(6)"
      ],
      "execution_count": 0,
      "outputs": [
        {
          "output_type": "execute_result",
          "data": {
            "text/html": [
              "<div>\n",
              "<style scoped>\n",
              "    .dataframe tbody tr th:only-of-type {\n",
              "        vertical-align: middle;\n",
              "    }\n",
              "\n",
              "    .dataframe tbody tr th {\n",
              "        vertical-align: top;\n",
              "    }\n",
              "\n",
              "    .dataframe thead th {\n",
              "        text-align: right;\n",
              "    }\n",
              "</style>\n",
              "<table border=\"1\" class=\"dataframe\">\n",
              "  <thead>\n",
              "    <tr style=\"text-align: right;\">\n",
              "      <th></th>\n",
              "      <th>text</th>\n",
              "      <th>sentiment</th>\n",
              "    </tr>\n",
              "  </thead>\n",
              "  <tbody>\n",
              "    <tr>\n",
              "      <th>176</th>\n",
              "      <td>Henry tipped for Fifa award\\n\\nFifa president ...</td>\n",
              "      <td>0</td>\n",
              "    </tr>\n",
              "    <tr>\n",
              "      <th>197</th>\n",
              "      <td>Highbury will be our Cup final\\n\\nArsenal is a...</td>\n",
              "      <td>0</td>\n",
              "    </tr>\n",
              "    <tr>\n",
              "      <th>139</th>\n",
              "      <td>Llewellyn plans Wales retirement\\n\\nWales reco...</td>\n",
              "      <td>0</td>\n",
              "    </tr>\n",
              "    <tr>\n",
              "      <th>158</th>\n",
              "      <td>Old Firm pair handed suspensions\\n\\nCeltic's H...</td>\n",
              "      <td>0</td>\n",
              "    </tr>\n",
              "    <tr>\n",
              "      <th>110</th>\n",
              "      <td>Gatland fears end of European run\\n\\nWasps coa...</td>\n",
              "      <td>0</td>\n",
              "    </tr>\n",
              "    <tr>\n",
              "      <th>67</th>\n",
              "      <td>Williams battles to Aussie title\\n\\nSerena Wil...</td>\n",
              "      <td>0</td>\n",
              "    </tr>\n",
              "  </tbody>\n",
              "</table>\n",
              "</div>"
            ],
            "text/plain": [
              "                                                  text  sentiment\n",
              "176  Henry tipped for Fifa award\\n\\nFifa president ...          0\n",
              "197  Highbury will be our Cup final\\n\\nArsenal is a...          0\n",
              "139  Llewellyn plans Wales retirement\\n\\nWales reco...          0\n",
              "158  Old Firm pair handed suspensions\\n\\nCeltic's H...          0\n",
              "110  Gatland fears end of European run\\n\\nWasps coa...          0\n",
              "67   Williams battles to Aussie title\\n\\nSerena Wil...          0"
            ]
          },
          "metadata": {
            "tags": []
          },
          "execution_count": 6
        }
      ]
    },
    {
      "cell_type": "code",
      "metadata": {
        "id": "hi4XGGwvAM7b",
        "colab_type": "code",
        "outputId": "500a467a-07ff-4b12-a206-c4afb66d3c58",
        "colab": {
          "base_uri": "https://localhost:8080/",
          "height": 326
        }
      },
      "source": [
        "newdf.iloc[::2]['sentiment'] = 1\n",
        "\n",
        "newdf.head(6)\n",
        "#labeling 0 & 1 for augmentation part interchange"
      ],
      "execution_count": 0,
      "outputs": [
        {
          "output_type": "stream",
          "text": [
            "/usr/local/lib/python3.6/dist-packages/ipykernel_launcher.py:1: SettingWithCopyWarning: \n",
            "A value is trying to be set on a copy of a slice from a DataFrame.\n",
            "Try using .loc[row_indexer,col_indexer] = value instead\n",
            "\n",
            "See the caveats in the documentation: http://pandas.pydata.org/pandas-docs/stable/indexing.html#indexing-view-versus-copy\n",
            "  \"\"\"Entry point for launching an IPython kernel.\n"
          ],
          "name": "stderr"
        },
        {
          "output_type": "execute_result",
          "data": {
            "text/html": [
              "<div>\n",
              "<style scoped>\n",
              "    .dataframe tbody tr th:only-of-type {\n",
              "        vertical-align: middle;\n",
              "    }\n",
              "\n",
              "    .dataframe tbody tr th {\n",
              "        vertical-align: top;\n",
              "    }\n",
              "\n",
              "    .dataframe thead th {\n",
              "        text-align: right;\n",
              "    }\n",
              "</style>\n",
              "<table border=\"1\" class=\"dataframe\">\n",
              "  <thead>\n",
              "    <tr style=\"text-align: right;\">\n",
              "      <th></th>\n",
              "      <th>text</th>\n",
              "      <th>sentiment</th>\n",
              "    </tr>\n",
              "  </thead>\n",
              "  <tbody>\n",
              "    <tr>\n",
              "      <th>176</th>\n",
              "      <td>Henry tipped for Fifa award\\n\\nFifa president ...</td>\n",
              "      <td>1</td>\n",
              "    </tr>\n",
              "    <tr>\n",
              "      <th>197</th>\n",
              "      <td>Highbury will be our Cup final\\n\\nArsenal is a...</td>\n",
              "      <td>0</td>\n",
              "    </tr>\n",
              "    <tr>\n",
              "      <th>139</th>\n",
              "      <td>Llewellyn plans Wales retirement\\n\\nWales reco...</td>\n",
              "      <td>1</td>\n",
              "    </tr>\n",
              "    <tr>\n",
              "      <th>158</th>\n",
              "      <td>Old Firm pair handed suspensions\\n\\nCeltic's H...</td>\n",
              "      <td>0</td>\n",
              "    </tr>\n",
              "    <tr>\n",
              "      <th>110</th>\n",
              "      <td>Gatland fears end of European run\\n\\nWasps coa...</td>\n",
              "      <td>1</td>\n",
              "    </tr>\n",
              "    <tr>\n",
              "      <th>67</th>\n",
              "      <td>Williams battles to Aussie title\\n\\nSerena Wil...</td>\n",
              "      <td>0</td>\n",
              "    </tr>\n",
              "  </tbody>\n",
              "</table>\n",
              "</div>"
            ],
            "text/plain": [
              "                                                  text  sentiment\n",
              "176  Henry tipped for Fifa award\\n\\nFifa president ...          1\n",
              "197  Highbury will be our Cup final\\n\\nArsenal is a...          0\n",
              "139  Llewellyn plans Wales retirement\\n\\nWales reco...          1\n",
              "158  Old Firm pair handed suspensions\\n\\nCeltic's H...          0\n",
              "110  Gatland fears end of European run\\n\\nWasps coa...          1\n",
              "67   Williams battles to Aussie title\\n\\nSerena Wil...          0"
            ]
          },
          "metadata": {
            "tags": []
          },
          "execution_count": 9
        }
      ]
    },
    {
      "cell_type": "code",
      "metadata": {
        "id": "kXNaxGGdXr7c",
        "colab_type": "code",
        "outputId": "a7cbe816-d0e5-48c9-a56f-32f6e2260e2d",
        "colab": {
          "base_uri": "https://localhost:8080/",
          "height": 34
        }
      },
      "source": [
        "type(text_list.values)"
      ],
      "execution_count": 0,
      "outputs": [
        {
          "output_type": "execute_result",
          "data": {
            "text/plain": [
              "numpy.ndarray"
            ]
          },
          "metadata": {
            "tags": []
          },
          "execution_count": 10
        }
      ]
    },
    {
      "cell_type": "code",
      "metadata": {
        "id": "0GexirOsowOT",
        "colab_type": "code",
        "outputId": "dafb7a6e-76ae-4982-f8a8-5ee908d16f50",
        "colab": {
          "base_uri": "https://localhost:8080/",
          "height": 136
        }
      },
      "source": [
        "newdf .head(3)"
      ],
      "execution_count": 0,
      "outputs": [
        {
          "output_type": "execute_result",
          "data": {
            "text/html": [
              "<div>\n",
              "<style scoped>\n",
              "    .dataframe tbody tr th:only-of-type {\n",
              "        vertical-align: middle;\n",
              "    }\n",
              "\n",
              "    .dataframe tbody tr th {\n",
              "        vertical-align: top;\n",
              "    }\n",
              "\n",
              "    .dataframe thead th {\n",
              "        text-align: right;\n",
              "    }\n",
              "</style>\n",
              "<table border=\"1\" class=\"dataframe\">\n",
              "  <thead>\n",
              "    <tr style=\"text-align: right;\">\n",
              "      <th></th>\n",
              "      <th>text</th>\n",
              "      <th>sentiment</th>\n",
              "    </tr>\n",
              "  </thead>\n",
              "  <tbody>\n",
              "    <tr>\n",
              "      <th>176</th>\n",
              "      <td>Henry tipped for Fifa award\\n\\nFifa president ...</td>\n",
              "      <td>1</td>\n",
              "    </tr>\n",
              "    <tr>\n",
              "      <th>197</th>\n",
              "      <td>Highbury will be our Cup final\\n\\nArsenal is a...</td>\n",
              "      <td>0</td>\n",
              "    </tr>\n",
              "    <tr>\n",
              "      <th>139</th>\n",
              "      <td>Llewellyn plans Wales retirement\\n\\nWales reco...</td>\n",
              "      <td>1</td>\n",
              "    </tr>\n",
              "  </tbody>\n",
              "</table>\n",
              "</div>"
            ],
            "text/plain": [
              "                                                  text  sentiment\n",
              "176  Henry tipped for Fifa award\\n\\nFifa president ...          1\n",
              "197  Highbury will be our Cup final\\n\\nArsenal is a...          0\n",
              "139  Llewellyn plans Wales retirement\\n\\nWales reco...          1"
            ]
          },
          "metadata": {
            "tags": []
          },
          "execution_count": 11
        }
      ]
    },
    {
      "cell_type": "code",
      "metadata": {
        "id": "hnFXR3D4q9JU",
        "colab_type": "code",
        "colab": {}
      },
      "source": [
        "from gensim.parsing.preprocessing import strip_punctuation\n",
        "#removing punctuation\n",
        "def remove_punctuation(newdf):\n",
        "  newdf= strip_punctuation(newdf)\n",
        "  newdf = newdf.strip().replace(\"\\t\", \"\").replace(\"\\n\", \"\").replace(\"http\", \"\")\n",
        "  return newdf"
      ],
      "execution_count": 0,
      "outputs": []
    },
    {
      "cell_type": "code",
      "metadata": {
        "id": "YFC8BopmgwCj",
        "colab_type": "code",
        "colab": {}
      },
      "source": [
        "newdf.text = newdf.text.apply(remove_punctuation)"
      ],
      "execution_count": 0,
      "outputs": []
    },
    {
      "cell_type": "code",
      "metadata": {
        "id": "UJW3iv85qaSV",
        "colab_type": "code",
        "colab": {}
      },
      "source": [
        "#newf.head(3)"
      ],
      "execution_count": 0,
      "outputs": []
    },
    {
      "cell_type": "code",
      "metadata": {
        "id": "mcRlgG5-rqpx",
        "colab_type": "code",
        "colab": {}
      },
      "source": [
        "# np.savetxt('text_list.txt', text_list[['Seprate','text']].values, fmt='%s', delimiter='###$###', newline='\\n')"
      ],
      "execution_count": 0,
      "outputs": []
    },
    {
      "cell_type": "code",
      "metadata": {
        "id": "5lJpK67OECnN",
        "colab_type": "code",
        "colab": {}
      },
      "source": [
        "#file_obj = open('TextClusteringlabeled.txt','w+')\n",
        "\n",
        "#for row in newdf.values:\n",
        " # file_obj.writelines([str(row[0]), \"\\t\", row[1].replace(\"\\n\", \"\"),\"\\n\"])  \n",
        "\n",
        "#file_obj.close()\n",
        "# ----------------------------\n",
        "# lines = open('text_list.txt', 'r').readlines()\n",
        "\n",
        "#  for i, line in enumerate(lines):\n",
        "#    print(i , line)"
      ],
      "execution_count": 0,
      "outputs": []
    },
    {
      "cell_type": "code",
      "metadata": {
        "id": "cGJCXIc1sFCV",
        "colab_type": "code",
        "colab": {}
      },
      "source": [
        "#lines = open('TextClustering_final.txt', 'r').readlines()\n",
        "\n",
        "\n",
        "#for i, line in enumerate(lines):\n",
        " #   parts = line[:-1].split('\\t')\n",
        "  #  if(len(parts) != 2):\n",
        "   #   print(len(parts) , \" : \" , line)\n",
        "   # label = parts[0]\n",
        "   # sentence = parts[1]\n",
        "    #print(parts)\n",
        "    #print(label)\n",
        "   # print( sentence)\n",
        "   # print(type(parts))\n",
        "#     print(len(parts))\n",
        "#     aug_sentences = eda(sentence, alpha_sr=alpha, alpha_ri=alpha, alpha_rs=alpha, p_rd=alpha, num_aug=num_aug)\n",
        "#     for aug_sentence in aug_sentences:\n",
        "#         writer.write(label + \"\\t\" + aug_sentence + '\\n')"
      ],
      "execution_count": 0,
      "outputs": []
    },
    {
      "cell_type": "code",
      "metadata": {
        "id": "E_g8zWxe6v_W",
        "colab_type": "code",
        "colab": {}
      },
      "source": [
        ""
      ],
      "execution_count": 0,
      "outputs": []
    }
  ]
}