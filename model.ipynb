{
 "cells": [
  {
   "cell_type": "code",
   "execution_count": null,
   "metadata": {
    "colab": {
     "base_uri": "https://localhost:8080/",
     "height": 128
    },
    "colab_type": "code",
    "id": "plooRJ_1EqX0",
    "outputId": "17e484c6-ea90-45a1-cb03-ec90e12c4974"
   },
   "outputs": [
    {
     "name": "stderr",
     "output_type": "stream",
     "text": [
      "C:\\Users\\Fatemeh\\Anaconda3\\lib\\site-packages\\h5py\\__init__.py:36: FutureWarning: Conversion of the second argument of issubdtype from `float` to `np.floating` is deprecated. In future, it will be treated as `np.float64 == np.dtype(float).type`.\n",
      "  from ._conv import register_converters as _register_converters\n",
      "Using TensorFlow backend.\n"
     ]
    },
    {
     "name": "stdout",
     "output_type": "stream",
     "text": [
      "Epoch 1/100\n",
      " 704/6311 [==>...........................] - ETA: 6:11 - loss: 6.9120 - acc: 0.0526"
     ]
    }
   ],
   "source": [
    "from keras.preprocessing.sequence import pad_sequences\n",
    "from keras.layers import Embedding, LSTM, Dense, Dropout\n",
    "from keras.preprocessing.text import Tokenizer\n",
    "from keras.callbacks import EarlyStopping\n",
    "from keras.models import Sequential\n",
    "import keras.utils as ku \n",
    "import numpy as np \n",
    "\n",
    "tokenizer = Tokenizer()\n",
    "\n",
    "def dataset_preparation(data):\n",
    "\n",
    "\t# basic cleanup\n",
    "\tcorpus = data.lower().split(\"\\t\")\n",
    "\n",
    "\t# tokenization\t\n",
    "\ttokenizer.fit_on_texts(corpus)\n",
    "\ttotal_words = len(tokenizer.word_index) + 1\n",
    "\n",
    "\t# create input sequences using list of tokens\n",
    "\tinput_sequences = []\n",
    "\tfor line in corpus:\n",
    "\t\ttoken_list = tokenizer.texts_to_sequences([line])[0]\n",
    "\t\tfor i in range(1, len(token_list)):\n",
    "\t\t\tn_gram_sequence = token_list[:i+1]\n",
    "\t\t\tinput_sequences.append(n_gram_sequence)\n",
    "\n",
    "\t# pad sequences \n",
    "\tmax_sequence_len = max([len(x) for x in input_sequences])\n",
    "\tinput_sequences = np.array(pad_sequences(input_sequences, maxlen=max_sequence_len, padding='pre'))\n",
    "\n",
    "\t# create predictors and label\n",
    "\tpredictors, label = input_sequences[:,:-1],input_sequences[:,-1]\n",
    "\tlabel = ku.to_categorical(label, num_classes=total_words)\n",
    "\n",
    "\treturn predictors, label, max_sequence_len, total_words\n",
    "\n",
    "def create_model(predictors, label, max_sequence_len, total_words):\n",
    "\t\n",
    "\tmodel = Sequential()\n",
    "\tmodel.add(Embedding(total_words, 10, input_length=max_sequence_len-1))\n",
    "\tmodel.add(LSTM(150, return_sequences = True))\n",
    "\t# model.add(Dropout(0.2))\n",
    "\tmodel.add(LSTM(100))\n",
    "\tmodel.add(Dense(total_words, activation='softmax'))\n",
    "\n",
    "\tmodel.compile(loss='categorical_crossentropy', optimizer='adam', metrics=['accuracy'])\n",
    "\tearlystop = EarlyStopping(monitor='val_loss', min_delta=0, patience=5, verbose=0, mode='auto')\n",
    "\tmodel.fit(predictors, label, epochs=5, verbose=1, callbacks=[earlystop])\n",
    "\tprint (model.summary())\n",
    "\treturn model \n",
    "\n",
    "def generate_text(seed_text, next_words, max_sequence_len):\n",
    "\tfor _ in range(next_words):\n",
    "\t\ttoken_list = tokenizer.texts_to_sequences([seed_text])[0]\n",
    "\t\ttoken_list = pad_sequences([token_list], maxlen=max_sequence_len-1, padding='pre')\n",
    "\t\tpredicted = model.predict_classes(token_list, verbose=0)\n",
    "\t\t\n",
    "\t\toutput_word = \"\"\n",
    "\t\tfor word, index in tokenizer.word_index.items():\n",
    "\t\t\tif index == predicted:\n",
    "\t\t\t\toutput_word = word\n",
    "\t\t\t\tbreak\n",
    "\t\tseed_text += \" \" + output_word\n",
    "\treturn seed_text\n",
    "\n",
    "\n",
    "\n",
    "data = open('data.txt').read()\n",
    "\n",
    "predictors, label, max_sequence_len, total_words = dataset_preparation(data)\n",
    "model = create_model(predictors, label, max_sequence_len, total_words)\n",
    "print (generate_text(\"it is too bad that is likable\", 1, max_sequence_len))"
   ]
  },
  {
   "cell_type": "code",
   "execution_count": 0,
   "metadata": {
    "colab": {},
    "colab_type": "code",
    "id": "W0r2838tErSn"
   },
   "outputs": [],
   "source": []
  }
 ],
 "metadata": {
  "colab": {
   "name": "model.ipynb",
   "provenance": [],
   "version": "0.3.2"
  },
  "kernelspec": {
   "display_name": "Python 3",
   "language": "python",
   "name": "python3"
  },
  "language_info": {
   "codemirror_mode": {
    "name": "ipython",
    "version": 3
   },
   "file_extension": ".py",
   "mimetype": "text/x-python",
   "name": "python",
   "nbconvert_exporter": "python",
   "pygments_lexer": "ipython3",
   "version": "3.6.5"
  }
 },
 "nbformat": 4,
 "nbformat_minor": 1
}
